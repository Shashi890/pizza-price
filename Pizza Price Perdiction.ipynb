{
 "cells": [
  {
   "cell_type": "code",
   "execution_count": 1,
   "id": "c00c54d7",
   "metadata": {},
   "outputs": [],
   "source": [
    "import numpy as np\n",
    "import pandas as pd\n"
   ]
  },
  {
   "cell_type": "code",
   "execution_count": 28,
   "id": "a8752874",
   "metadata": {},
   "outputs": [],
   "source": [
    "df= pd.read_excel(\"Pizza_Price.xlsx\")"
   ]
  },
  {
   "cell_type": "code",
   "execution_count": 29,
   "id": "c3b818b4",
   "metadata": {},
   "outputs": [
    {
     "data": {
      "text/html": [
       "<div>\n",
       "<style scoped>\n",
       "    .dataframe tbody tr th:only-of-type {\n",
       "        vertical-align: middle;\n",
       "    }\n",
       "\n",
       "    .dataframe tbody tr th {\n",
       "        vertical-align: top;\n",
       "    }\n",
       "\n",
       "    .dataframe thead th {\n",
       "        text-align: right;\n",
       "    }\n",
       "</style>\n",
       "<table border=\"1\" class=\"dataframe\">\n",
       "  <thead>\n",
       "    <tr style=\"text-align: right;\">\n",
       "      <th></th>\n",
       "      <th>company</th>\n",
       "      <th>price_rupiah</th>\n",
       "      <th>diameter</th>\n",
       "      <th>topping</th>\n",
       "      <th>variant</th>\n",
       "      <th>size</th>\n",
       "      <th>extra_sauce</th>\n",
       "      <th>extra_cheese</th>\n",
       "    </tr>\n",
       "  </thead>\n",
       "  <tbody>\n",
       "    <tr>\n",
       "      <th>0</th>\n",
       "      <td>A</td>\n",
       "      <td>Rp235,000</td>\n",
       "      <td>22.0</td>\n",
       "      <td>chicken</td>\n",
       "      <td>double_signature</td>\n",
       "      <td>jumbo</td>\n",
       "      <td>yes</td>\n",
       "      <td>yes</td>\n",
       "    </tr>\n",
       "    <tr>\n",
       "      <th>1</th>\n",
       "      <td>A</td>\n",
       "      <td>Rp198,000</td>\n",
       "      <td>20.0</td>\n",
       "      <td>papperoni</td>\n",
       "      <td>double_signature</td>\n",
       "      <td>jumbo</td>\n",
       "      <td>yes</td>\n",
       "      <td>yes</td>\n",
       "    </tr>\n",
       "    <tr>\n",
       "      <th>2</th>\n",
       "      <td>A</td>\n",
       "      <td>Rp120,000</td>\n",
       "      <td>16.0</td>\n",
       "      <td>mushrooms</td>\n",
       "      <td>double_signature</td>\n",
       "      <td>reguler</td>\n",
       "      <td>yes</td>\n",
       "      <td>yes</td>\n",
       "    </tr>\n",
       "    <tr>\n",
       "      <th>3</th>\n",
       "      <td>A</td>\n",
       "      <td>Rp155,000</td>\n",
       "      <td>14.0</td>\n",
       "      <td>smoked beef</td>\n",
       "      <td>double_signature</td>\n",
       "      <td>reguler</td>\n",
       "      <td>yes</td>\n",
       "      <td>no</td>\n",
       "    </tr>\n",
       "    <tr>\n",
       "      <th>4</th>\n",
       "      <td>A</td>\n",
       "      <td>Rp248,000</td>\n",
       "      <td>18.0</td>\n",
       "      <td>mozzarella</td>\n",
       "      <td>double_signature</td>\n",
       "      <td>jumbo</td>\n",
       "      <td>yes</td>\n",
       "      <td>no</td>\n",
       "    </tr>\n",
       "  </tbody>\n",
       "</table>\n",
       "</div>"
      ],
      "text/plain": [
       "  company price_rupiah  diameter      topping           variant     size  \\\n",
       "0       A    Rp235,000      22.0      chicken  double_signature    jumbo   \n",
       "1       A    Rp198,000      20.0    papperoni  double_signature    jumbo   \n",
       "2       A    Rp120,000      16.0    mushrooms  double_signature  reguler   \n",
       "3       A    Rp155,000      14.0  smoked beef  double_signature  reguler   \n",
       "4       A    Rp248,000      18.0   mozzarella  double_signature    jumbo   \n",
       "\n",
       "  extra_sauce extra_cheese  \n",
       "0         yes          yes  \n",
       "1         yes          yes  \n",
       "2         yes          yes  \n",
       "3         yes           no  \n",
       "4         yes           no  "
      ]
     },
     "execution_count": 29,
     "metadata": {},
     "output_type": "execute_result"
    }
   ],
   "source": [
    "df.head()"
   ]
  },
  {
   "cell_type": "code",
   "execution_count": 30,
   "id": "2e8ed0db",
   "metadata": {},
   "outputs": [
    {
     "data": {
      "text/plain": [
       "(129, 8)"
      ]
     },
     "execution_count": 30,
     "metadata": {},
     "output_type": "execute_result"
    }
   ],
   "source": [
    "df.shape"
   ]
  },
  {
   "cell_type": "code",
   "execution_count": 31,
   "id": "25287482",
   "metadata": {},
   "outputs": [
    {
     "data": {
      "text/plain": [
       "company         0\n",
       "price_rupiah    0\n",
       "diameter        0\n",
       "topping         0\n",
       "variant         0\n",
       "size            0\n",
       "extra_sauce     0\n",
       "extra_cheese    0\n",
       "dtype: int64"
      ]
     },
     "execution_count": 31,
     "metadata": {},
     "output_type": "execute_result"
    }
   ],
   "source": [
    "df.isnull().sum()"
   ]
  },
  {
   "cell_type": "code",
   "execution_count": 32,
   "id": "4cee7fcd",
   "metadata": {},
   "outputs": [
    {
     "data": {
      "text/plain": [
       "3"
      ]
     },
     "execution_count": 32,
     "metadata": {},
     "output_type": "execute_result"
    }
   ],
   "source": [
    "df.duplicated().sum()"
   ]
  },
  {
   "cell_type": "code",
   "execution_count": 33,
   "id": "eebd29f8",
   "metadata": {},
   "outputs": [],
   "source": [
    "df.drop_duplicates(inplace=True)"
   ]
  },
  {
   "cell_type": "code",
   "execution_count": 34,
   "id": "1d80b39a",
   "metadata": {},
   "outputs": [
    {
     "data": {
      "text/plain": [
       "(126, 8)"
      ]
     },
     "execution_count": 34,
     "metadata": {},
     "output_type": "execute_result"
    }
   ],
   "source": [
    "df.shape"
   ]
  },
  {
   "cell_type": "code",
   "execution_count": 35,
   "id": "eb107b53",
   "metadata": {},
   "outputs": [
    {
     "name": "stdout",
     "output_type": "stream",
     "text": [
      "<class 'pandas.core.frame.DataFrame'>\n",
      "Int64Index: 126 entries, 0 to 128\n",
      "Data columns (total 8 columns):\n",
      " #   Column        Non-Null Count  Dtype  \n",
      "---  ------        --------------  -----  \n",
      " 0   company       126 non-null    object \n",
      " 1   price_rupiah  126 non-null    object \n",
      " 2   diameter      126 non-null    float64\n",
      " 3   topping       126 non-null    object \n",
      " 4   variant       126 non-null    object \n",
      " 5   size          126 non-null    object \n",
      " 6   extra_sauce   126 non-null    object \n",
      " 7   extra_cheese  126 non-null    object \n",
      "dtypes: float64(1), object(7)\n",
      "memory usage: 8.9+ KB\n"
     ]
    }
   ],
   "source": [
    "df.info()"
   ]
  },
  {
   "cell_type": "code",
   "execution_count": 36,
   "id": "1831fe30",
   "metadata": {},
   "outputs": [],
   "source": [
    "df['price_rupiah']=df['price_rupiah'].str.replace('Rp',\"\")"
   ]
  },
  {
   "cell_type": "code",
   "execution_count": 37,
   "id": "87b1bb10",
   "metadata": {},
   "outputs": [
    {
     "data": {
      "text/html": [
       "<div>\n",
       "<style scoped>\n",
       "    .dataframe tbody tr th:only-of-type {\n",
       "        vertical-align: middle;\n",
       "    }\n",
       "\n",
       "    .dataframe tbody tr th {\n",
       "        vertical-align: top;\n",
       "    }\n",
       "\n",
       "    .dataframe thead th {\n",
       "        text-align: right;\n",
       "    }\n",
       "</style>\n",
       "<table border=\"1\" class=\"dataframe\">\n",
       "  <thead>\n",
       "    <tr style=\"text-align: right;\">\n",
       "      <th></th>\n",
       "      <th>company</th>\n",
       "      <th>price_rupiah</th>\n",
       "      <th>diameter</th>\n",
       "      <th>topping</th>\n",
       "      <th>variant</th>\n",
       "      <th>size</th>\n",
       "      <th>extra_sauce</th>\n",
       "      <th>extra_cheese</th>\n",
       "    </tr>\n",
       "  </thead>\n",
       "  <tbody>\n",
       "    <tr>\n",
       "      <th>0</th>\n",
       "      <td>A</td>\n",
       "      <td>235,000</td>\n",
       "      <td>22.0</td>\n",
       "      <td>chicken</td>\n",
       "      <td>double_signature</td>\n",
       "      <td>jumbo</td>\n",
       "      <td>yes</td>\n",
       "      <td>yes</td>\n",
       "    </tr>\n",
       "    <tr>\n",
       "      <th>1</th>\n",
       "      <td>A</td>\n",
       "      <td>198,000</td>\n",
       "      <td>20.0</td>\n",
       "      <td>papperoni</td>\n",
       "      <td>double_signature</td>\n",
       "      <td>jumbo</td>\n",
       "      <td>yes</td>\n",
       "      <td>yes</td>\n",
       "    </tr>\n",
       "    <tr>\n",
       "      <th>2</th>\n",
       "      <td>A</td>\n",
       "      <td>120,000</td>\n",
       "      <td>16.0</td>\n",
       "      <td>mushrooms</td>\n",
       "      <td>double_signature</td>\n",
       "      <td>reguler</td>\n",
       "      <td>yes</td>\n",
       "      <td>yes</td>\n",
       "    </tr>\n",
       "    <tr>\n",
       "      <th>3</th>\n",
       "      <td>A</td>\n",
       "      <td>155,000</td>\n",
       "      <td>14.0</td>\n",
       "      <td>smoked beef</td>\n",
       "      <td>double_signature</td>\n",
       "      <td>reguler</td>\n",
       "      <td>yes</td>\n",
       "      <td>no</td>\n",
       "    </tr>\n",
       "    <tr>\n",
       "      <th>4</th>\n",
       "      <td>A</td>\n",
       "      <td>248,000</td>\n",
       "      <td>18.0</td>\n",
       "      <td>mozzarella</td>\n",
       "      <td>double_signature</td>\n",
       "      <td>jumbo</td>\n",
       "      <td>yes</td>\n",
       "      <td>no</td>\n",
       "    </tr>\n",
       "  </tbody>\n",
       "</table>\n",
       "</div>"
      ],
      "text/plain": [
       "  company price_rupiah  diameter      topping           variant     size  \\\n",
       "0       A      235,000      22.0      chicken  double_signature    jumbo   \n",
       "1       A      198,000      20.0    papperoni  double_signature    jumbo   \n",
       "2       A      120,000      16.0    mushrooms  double_signature  reguler   \n",
       "3       A      155,000      14.0  smoked beef  double_signature  reguler   \n",
       "4       A      248,000      18.0   mozzarella  double_signature    jumbo   \n",
       "\n",
       "  extra_sauce extra_cheese  \n",
       "0         yes          yes  \n",
       "1         yes          yes  \n",
       "2         yes          yes  \n",
       "3         yes           no  \n",
       "4         yes           no  "
      ]
     },
     "execution_count": 37,
     "metadata": {},
     "output_type": "execute_result"
    }
   ],
   "source": [
    "df.head()"
   ]
  },
  {
   "cell_type": "code",
   "execution_count": 64,
   "id": "b53c152c",
   "metadata": {},
   "outputs": [],
   "source": [
    "df['price_rupiah']=df['price_rupiah'].str.replace(',000' ,\"\") "
   ]
  },
  {
   "cell_type": "code",
   "execution_count": 65,
   "id": "c79fd4c9",
   "metadata": {},
   "outputs": [],
   "source": [
    "df['price_rupiah']=df['price_rupiah'].str.replace(',500' ,\"\") "
   ]
  },
  {
   "cell_type": "code",
   "execution_count": 66,
   "id": "a9d06883",
   "metadata": {},
   "outputs": [
    {
     "data": {
      "text/html": [
       "<div>\n",
       "<style scoped>\n",
       "    .dataframe tbody tr th:only-of-type {\n",
       "        vertical-align: middle;\n",
       "    }\n",
       "\n",
       "    .dataframe tbody tr th {\n",
       "        vertical-align: top;\n",
       "    }\n",
       "\n",
       "    .dataframe thead th {\n",
       "        text-align: right;\n",
       "    }\n",
       "</style>\n",
       "<table border=\"1\" class=\"dataframe\">\n",
       "  <thead>\n",
       "    <tr style=\"text-align: right;\">\n",
       "      <th></th>\n",
       "      <th>company</th>\n",
       "      <th>price_rupiah</th>\n",
       "      <th>diameter</th>\n",
       "      <th>topping</th>\n",
       "      <th>variant</th>\n",
       "      <th>size</th>\n",
       "      <th>extra_sauce</th>\n",
       "      <th>extra_cheese</th>\n",
       "    </tr>\n",
       "  </thead>\n",
       "  <tbody>\n",
       "    <tr>\n",
       "      <th>0</th>\n",
       "      <td>A</td>\n",
       "      <td>235</td>\n",
       "      <td>22.0</td>\n",
       "      <td>chicken</td>\n",
       "      <td>double_signature</td>\n",
       "      <td>jumbo</td>\n",
       "      <td>yes</td>\n",
       "      <td>yes</td>\n",
       "    </tr>\n",
       "    <tr>\n",
       "      <th>1</th>\n",
       "      <td>A</td>\n",
       "      <td>198</td>\n",
       "      <td>20.0</td>\n",
       "      <td>papperoni</td>\n",
       "      <td>double_signature</td>\n",
       "      <td>jumbo</td>\n",
       "      <td>yes</td>\n",
       "      <td>yes</td>\n",
       "    </tr>\n",
       "    <tr>\n",
       "      <th>2</th>\n",
       "      <td>A</td>\n",
       "      <td>120</td>\n",
       "      <td>16.0</td>\n",
       "      <td>mushrooms</td>\n",
       "      <td>double_signature</td>\n",
       "      <td>reguler</td>\n",
       "      <td>yes</td>\n",
       "      <td>yes</td>\n",
       "    </tr>\n",
       "    <tr>\n",
       "      <th>3</th>\n",
       "      <td>A</td>\n",
       "      <td>155</td>\n",
       "      <td>14.0</td>\n",
       "      <td>smoked beef</td>\n",
       "      <td>double_signature</td>\n",
       "      <td>reguler</td>\n",
       "      <td>yes</td>\n",
       "      <td>no</td>\n",
       "    </tr>\n",
       "    <tr>\n",
       "      <th>4</th>\n",
       "      <td>A</td>\n",
       "      <td>248</td>\n",
       "      <td>18.0</td>\n",
       "      <td>mozzarella</td>\n",
       "      <td>double_signature</td>\n",
       "      <td>jumbo</td>\n",
       "      <td>yes</td>\n",
       "      <td>no</td>\n",
       "    </tr>\n",
       "  </tbody>\n",
       "</table>\n",
       "</div>"
      ],
      "text/plain": [
       "  company price_rupiah  diameter      topping           variant     size  \\\n",
       "0       A          235      22.0      chicken  double_signature    jumbo   \n",
       "1       A          198      20.0    papperoni  double_signature    jumbo   \n",
       "2       A          120      16.0    mushrooms  double_signature  reguler   \n",
       "3       A          155      14.0  smoked beef  double_signature  reguler   \n",
       "4       A          248      18.0   mozzarella  double_signature    jumbo   \n",
       "\n",
       "  extra_sauce extra_cheese  \n",
       "0         yes          yes  \n",
       "1         yes          yes  \n",
       "2         yes          yes  \n",
       "3         yes           no  \n",
       "4         yes           no  "
      ]
     },
     "execution_count": 66,
     "metadata": {},
     "output_type": "execute_result"
    }
   ],
   "source": [
    "df.head()"
   ]
  },
  {
   "cell_type": "code",
   "execution_count": 67,
   "id": "df5afefe",
   "metadata": {},
   "outputs": [
    {
     "name": "stdout",
     "output_type": "stream",
     "text": [
      "<class 'pandas.core.frame.DataFrame'>\n",
      "Int64Index: 126 entries, 0 to 128\n",
      "Data columns (total 8 columns):\n",
      " #   Column        Non-Null Count  Dtype  \n",
      "---  ------        --------------  -----  \n",
      " 0   company       126 non-null    object \n",
      " 1   price_rupiah  126 non-null    object \n",
      " 2   diameter      126 non-null    float64\n",
      " 3   topping       126 non-null    object \n",
      " 4   variant       126 non-null    object \n",
      " 5   size          126 non-null    object \n",
      " 6   extra_sauce   126 non-null    object \n",
      " 7   extra_cheese  126 non-null    object \n",
      "dtypes: float64(1), object(7)\n",
      "memory usage: 8.9+ KB\n"
     ]
    }
   ],
   "source": [
    "df.info()"
   ]
  },
  {
   "cell_type": "code",
   "execution_count": 68,
   "id": "c93e4e3e",
   "metadata": {},
   "outputs": [],
   "source": [
    "df['price_rupiah']=df['price_rupiah'].astype(int)"
   ]
  },
  {
   "cell_type": "code",
   "execution_count": 46,
   "id": "594004dd",
   "metadata": {},
   "outputs": [],
   "source": [
    "import matplotlib.pyplot as plt\n",
    "import seaborn as sns"
   ]
  },
  {
   "cell_type": "code",
   "execution_count": 69,
   "id": "1c7406a5",
   "metadata": {},
   "outputs": [
    {
     "name": "stderr",
     "output_type": "stream",
     "text": [
      "C:\\Users\\Pal\\anaconda3\\lib\\site-packages\\seaborn\\distributions.py:2557: FutureWarning: `distplot` is a deprecated function and will be removed in a future version. Please adapt your code to use either `displot` (a figure-level function with similar flexibility) or `histplot` (an axes-level function for histograms).\n",
      "  warnings.warn(msg, FutureWarning)\n"
     ]
    },
    {
     "data": {
      "text/plain": [
       "<AxesSubplot:xlabel='price_rupiah', ylabel='Density'>"
      ]
     },
     "execution_count": 69,
     "metadata": {},
     "output_type": "execute_result"
    },
    {
     "data": {
      "image/png": "[encoded data removed]",
      "text/plain": [
       "<Figure size 432x288 with 1 Axes>"
      ]
     },
     "metadata": {
      "needs_background": "light"
     },
     "output_type": "display_data"
    }
   ],
   "source": [
    "sns.distplot(df['price_rupiah'])"
   ]
  },
  {
   "cell_type": "code",
   "execution_count": 56,
   "id": "e42039d2",
   "metadata": {},
   "outputs": [
    {
     "data": {
      "text/plain": [
       "<AxesSubplot:xlabel='diameter', ylabel='Density'>"
      ]
     },
     "execution_count": 56,
     "metadata": {},
     "output_type": "execute_result"
    },
    {
     "data": {
      "image/png": "[encoded data removed]",
      "text/plain": [
       "<Figure size 432x288 with 1 Axes>"
      ]
     },
     "metadata": {
      "needs_background": "light"
     },
     "output_type": "display_data"
    }
   ],
   "source": [
    "sns.distplot(df['diameter'])"
   ]
  },
  {
   "cell_type": "code",
   "execution_count": 48,
   "id": "c95cea98",
   "metadata": {},
   "outputs": [
    {
     "data": {
      "text/plain": [
       "<AxesSubplot:>"
      ]
     },
     "execution_count": 48,
     "metadata": {},
     "output_type": "execute_result"
    },
    {
     "data": {
      "image/png": "[encoded data removed]",
      "text/plain": [
       "<Figure size 432x288 with 1 Axes>"
      ]
     },
     "metadata": {
      "needs_background": "light"
     },
     "output_type": "display_data"
    }
   ],
   "source": [
    "df[\"topping\"].value_counts().plot(kind= 'bar')"
   ]
  },
  {
   "cell_type": "code",
   "execution_count": 57,
   "id": "01064825",
   "metadata": {},
   "outputs": [
    {
     "data": {
      "text/plain": [
       "<AxesSubplot:>"
      ]
     },
     "execution_count": 57,
     "metadata": {},
     "output_type": "execute_result"
    },
    {
     "data": {
      "image/png": "[encoded data removed]",
      "text/plain": [
       "<Figure size 432x288 with 1 Axes>"
      ]
     },
     "metadata": {
      "needs_background": "light"
     },
     "output_type": "display_data"
    }
   ],
   "source": [
    "\n",
    "df[\"size\"].value_counts().plot(kind= 'bar')"
   ]
  },
  {
   "cell_type": "code",
   "execution_count": 61,
   "id": "779e1c5c",
   "metadata": {},
   "outputs": [
    {
     "data": {
      "text/plain": [
       "classic              30\n",
       "crunchy              10\n",
       "double_mix           10\n",
       "meat_lovers          10\n",
       "double_decker         9\n",
       "new_york              7\n",
       "BBQ_meat_fiesta       5\n",
       "american_favorite     5\n",
       "super_supreme         5\n",
       "double_signature      5\n",
       "meat_eater            3\n",
       "american_classic      3\n",
       "spicy_tuna            3\n",
       "BBQ_sausage           3\n",
       "neptune_tuna          3\n",
       "spicy tuna            3\n",
       "italian_veggie        3\n",
       "thai_veggie           3\n",
       "extravaganza          3\n",
       "gournet_greek         3\n",
       "Name: variant, dtype: int64"
      ]
     },
     "execution_count": 61,
     "metadata": {},
     "output_type": "execute_result"
    }
   ],
   "source": [
    "\n",
    "df['variant'].value_counts()"
   ]
  },
  {
   "cell_type": "code",
   "execution_count": 71,
   "id": "266afba9",
   "metadata": {},
   "outputs": [
    {
     "data": {
      "text/html": [
       "<div>\n",
       "<style scoped>\n",
       "    .dataframe tbody tr th:only-of-type {\n",
       "        vertical-align: middle;\n",
       "    }\n",
       "\n",
       "    .dataframe tbody tr th {\n",
       "        vertical-align: top;\n",
       "    }\n",
       "\n",
       "    .dataframe thead th {\n",
       "        text-align: right;\n",
       "    }\n",
       "</style>\n",
       "<table border=\"1\" class=\"dataframe\">\n",
       "  <thead>\n",
       "    <tr style=\"text-align: right;\">\n",
       "      <th></th>\n",
       "      <th>price_rupiah</th>\n",
       "      <th>diameter</th>\n",
       "    </tr>\n",
       "  </thead>\n",
       "  <tbody>\n",
       "    <tr>\n",
       "      <th>price_rupiah</th>\n",
       "      <td>1.000000</td>\n",
       "      <td>0.839569</td>\n",
       "    </tr>\n",
       "    <tr>\n",
       "      <th>diameter</th>\n",
       "      <td>0.839569</td>\n",
       "      <td>1.000000</td>\n",
       "    </tr>\n",
       "  </tbody>\n",
       "</table>\n",
       "</div>"
      ],
      "text/plain": [
       "              price_rupiah  diameter\n",
       "price_rupiah      1.000000  0.839569\n",
       "diameter          0.839569  1.000000"
      ]
     },
     "execution_count": 71,
     "metadata": {},
     "output_type": "execute_result"
    }
   ],
   "source": [
    "df.corr()"
   ]
  },
  {
   "cell_type": "code",
   "execution_count": 72,
   "id": "80b47adc",
   "metadata": {},
   "outputs": [
    {
     "data": {
      "text/html": [
       "<div>\n",
       "<style scoped>\n",
       "    .dataframe tbody tr th:only-of-type {\n",
       "        vertical-align: middle;\n",
       "    }\n",
       "\n",
       "    .dataframe tbody tr th {\n",
       "        vertical-align: top;\n",
       "    }\n",
       "\n",
       "    .dataframe thead th {\n",
       "        text-align: right;\n",
       "    }\n",
       "</style>\n",
       "<table border=\"1\" class=\"dataframe\">\n",
       "  <thead>\n",
       "    <tr style=\"text-align: right;\">\n",
       "      <th></th>\n",
       "      <th>company</th>\n",
       "      <th>price_rupiah</th>\n",
       "      <th>diameter</th>\n",
       "      <th>topping</th>\n",
       "      <th>variant</th>\n",
       "      <th>size</th>\n",
       "      <th>extra_sauce</th>\n",
       "      <th>extra_cheese</th>\n",
       "    </tr>\n",
       "  </thead>\n",
       "  <tbody>\n",
       "    <tr>\n",
       "      <th>0</th>\n",
       "      <td>A</td>\n",
       "      <td>235</td>\n",
       "      <td>22.0</td>\n",
       "      <td>chicken</td>\n",
       "      <td>double_signature</td>\n",
       "      <td>jumbo</td>\n",
       "      <td>yes</td>\n",
       "      <td>yes</td>\n",
       "    </tr>\n",
       "    <tr>\n",
       "      <th>1</th>\n",
       "      <td>A</td>\n",
       "      <td>198</td>\n",
       "      <td>20.0</td>\n",
       "      <td>papperoni</td>\n",
       "      <td>double_signature</td>\n",
       "      <td>jumbo</td>\n",
       "      <td>yes</td>\n",
       "      <td>yes</td>\n",
       "    </tr>\n",
       "    <tr>\n",
       "      <th>2</th>\n",
       "      <td>A</td>\n",
       "      <td>120</td>\n",
       "      <td>16.0</td>\n",
       "      <td>mushrooms</td>\n",
       "      <td>double_signature</td>\n",
       "      <td>reguler</td>\n",
       "      <td>yes</td>\n",
       "      <td>yes</td>\n",
       "    </tr>\n",
       "    <tr>\n",
       "      <th>3</th>\n",
       "      <td>A</td>\n",
       "      <td>155</td>\n",
       "      <td>14.0</td>\n",
       "      <td>smoked beef</td>\n",
       "      <td>double_signature</td>\n",
       "      <td>reguler</td>\n",
       "      <td>yes</td>\n",
       "      <td>no</td>\n",
       "    </tr>\n",
       "    <tr>\n",
       "      <th>4</th>\n",
       "      <td>A</td>\n",
       "      <td>248</td>\n",
       "      <td>18.0</td>\n",
       "      <td>mozzarella</td>\n",
       "      <td>double_signature</td>\n",
       "      <td>jumbo</td>\n",
       "      <td>yes</td>\n",
       "      <td>no</td>\n",
       "    </tr>\n",
       "  </tbody>\n",
       "</table>\n",
       "</div>"
      ],
      "text/plain": [
       "  company  price_rupiah  diameter      topping           variant     size  \\\n",
       "0       A           235      22.0      chicken  double_signature    jumbo   \n",
       "1       A           198      20.0    papperoni  double_signature    jumbo   \n",
       "2       A           120      16.0    mushrooms  double_signature  reguler   \n",
       "3       A           155      14.0  smoked beef  double_signature  reguler   \n",
       "4       A           248      18.0   mozzarella  double_signature    jumbo   \n",
       "\n",
       "  extra_sauce extra_cheese  \n",
       "0         yes          yes  \n",
       "1         yes          yes  \n",
       "2         yes          yes  \n",
       "3         yes           no  \n",
       "4         yes           no  "
      ]
     },
     "execution_count": 72,
     "metadata": {},
     "output_type": "execute_result"
    }
   ],
   "source": [
    "df.head()"
   ]
  },
  {
   "cell_type": "code",
   "execution_count": 73,
   "id": "10fe807d",
   "metadata": {},
   "outputs": [],
   "source": [
    "df['extra_sauce']=df['extra_sauce'].apply(lambda x:1 if 'yes' in x else 0)"
   ]
  },
  {
   "cell_type": "code",
   "execution_count": 75,
   "id": "53bf27e8",
   "metadata": {},
   "outputs": [],
   "source": [
    "df['extra_cheese']=df['extra_cheese'].apply(lambda x:1 if 'yes' in x else 0)"
   ]
  },
  {
   "cell_type": "code",
   "execution_count": 76,
   "id": "ad897b12",
   "metadata": {},
   "outputs": [
    {
     "data": {
      "text/html": [
       "<div>\n",
       "<style scoped>\n",
       "    .dataframe tbody tr th:only-of-type {\n",
       "        vertical-align: middle;\n",
       "    }\n",
       "\n",
       "    .dataframe tbody tr th {\n",
       "        vertical-align: top;\n",
       "    }\n",
       "\n",
       "    .dataframe thead th {\n",
       "        text-align: right;\n",
       "    }\n",
       "</style>\n",
       "<table border=\"1\" class=\"dataframe\">\n",
       "  <thead>\n",
       "    <tr style=\"text-align: right;\">\n",
       "      <th></th>\n",
       "      <th>company</th>\n",
       "      <th>price_rupiah</th>\n",
       "      <th>diameter</th>\n",
       "      <th>topping</th>\n",
       "      <th>variant</th>\n",
       "      <th>size</th>\n",
       "      <th>extra_sauce</th>\n",
       "      <th>extra_cheese</th>\n",
       "    </tr>\n",
       "  </thead>\n",
       "  <tbody>\n",
       "    <tr>\n",
       "      <th>0</th>\n",
       "      <td>A</td>\n",
       "      <td>235</td>\n",
       "      <td>22.0</td>\n",
       "      <td>chicken</td>\n",
       "      <td>double_signature</td>\n",
       "      <td>jumbo</td>\n",
       "      <td>1</td>\n",
       "      <td>1</td>\n",
       "    </tr>\n",
       "    <tr>\n",
       "      <th>1</th>\n",
       "      <td>A</td>\n",
       "      <td>198</td>\n",
       "      <td>20.0</td>\n",
       "      <td>papperoni</td>\n",
       "      <td>double_signature</td>\n",
       "      <td>jumbo</td>\n",
       "      <td>1</td>\n",
       "      <td>1</td>\n",
       "    </tr>\n",
       "    <tr>\n",
       "      <th>2</th>\n",
       "      <td>A</td>\n",
       "      <td>120</td>\n",
       "      <td>16.0</td>\n",
       "      <td>mushrooms</td>\n",
       "      <td>double_signature</td>\n",
       "      <td>reguler</td>\n",
       "      <td>1</td>\n",
       "      <td>1</td>\n",
       "    </tr>\n",
       "    <tr>\n",
       "      <th>3</th>\n",
       "      <td>A</td>\n",
       "      <td>155</td>\n",
       "      <td>14.0</td>\n",
       "      <td>smoked beef</td>\n",
       "      <td>double_signature</td>\n",
       "      <td>reguler</td>\n",
       "      <td>1</td>\n",
       "      <td>0</td>\n",
       "    </tr>\n",
       "    <tr>\n",
       "      <th>4</th>\n",
       "      <td>A</td>\n",
       "      <td>248</td>\n",
       "      <td>18.0</td>\n",
       "      <td>mozzarella</td>\n",
       "      <td>double_signature</td>\n",
       "      <td>jumbo</td>\n",
       "      <td>1</td>\n",
       "      <td>0</td>\n",
       "    </tr>\n",
       "  </tbody>\n",
       "</table>\n",
       "</div>"
      ],
      "text/plain": [
       "  company  price_rupiah  diameter      topping           variant     size  \\\n",
       "0       A           235      22.0      chicken  double_signature    jumbo   \n",
       "1       A           198      20.0    papperoni  double_signature    jumbo   \n",
       "2       A           120      16.0    mushrooms  double_signature  reguler   \n",
       "3       A           155      14.0  smoked beef  double_signature  reguler   \n",
       "4       A           248      18.0   mozzarella  double_signature    jumbo   \n",
       "\n",
       "   extra_sauce  extra_cheese  \n",
       "0            1             1  \n",
       "1            1             1  \n",
       "2            1             1  \n",
       "3            1             0  \n",
       "4            1             0  "
      ]
     },
     "execution_count": 76,
     "metadata": {},
     "output_type": "execute_result"
    }
   ],
   "source": [
    "df.head()"
   ]
  },
  {
   "cell_type": "code",
   "execution_count": 77,
   "id": "7fb14629",
   "metadata": {},
   "outputs": [
    {
     "data": {
      "text/html": [
       "<div>\n",
       "<style scoped>\n",
       "    .dataframe tbody tr th:only-of-type {\n",
       "        vertical-align: middle;\n",
       "    }\n",
       "\n",
       "    .dataframe tbody tr th {\n",
       "        vertical-align: top;\n",
       "    }\n",
       "\n",
       "    .dataframe thead th {\n",
       "        text-align: right;\n",
       "    }\n",
       "</style>\n",
       "<table border=\"1\" class=\"dataframe\">\n",
       "  <thead>\n",
       "    <tr style=\"text-align: right;\">\n",
       "      <th></th>\n",
       "      <th>price_rupiah</th>\n",
       "      <th>diameter</th>\n",
       "      <th>extra_sauce</th>\n",
       "      <th>extra_cheese</th>\n",
       "    </tr>\n",
       "  </thead>\n",
       "  <tbody>\n",
       "    <tr>\n",
       "      <th>price_rupiah</th>\n",
       "      <td>1.000000</td>\n",
       "      <td>0.839569</td>\n",
       "      <td>0.089338</td>\n",
       "      <td>0.010035</td>\n",
       "    </tr>\n",
       "    <tr>\n",
       "      <th>diameter</th>\n",
       "      <td>0.839569</td>\n",
       "      <td>1.000000</td>\n",
       "      <td>-0.029819</td>\n",
       "      <td>0.035569</td>\n",
       "    </tr>\n",
       "    <tr>\n",
       "      <th>extra_sauce</th>\n",
       "      <td>0.089338</td>\n",
       "      <td>-0.029819</td>\n",
       "      <td>1.000000</td>\n",
       "      <td>-0.070601</td>\n",
       "    </tr>\n",
       "    <tr>\n",
       "      <th>extra_cheese</th>\n",
       "      <td>0.010035</td>\n",
       "      <td>0.035569</td>\n",
       "      <td>-0.070601</td>\n",
       "      <td>1.000000</td>\n",
       "    </tr>\n",
       "  </tbody>\n",
       "</table>\n",
       "</div>"
      ],
      "text/plain": [
       "              price_rupiah  diameter  extra_sauce  extra_cheese\n",
       "price_rupiah      1.000000  0.839569     0.089338      0.010035\n",
       "diameter          0.839569  1.000000    -0.029819      0.035569\n",
       "extra_sauce       0.089338 -0.029819     1.000000     -0.070601\n",
       "extra_cheese      0.010035  0.035569    -0.070601      1.000000"
      ]
     },
     "execution_count": 77,
     "metadata": {},
     "output_type": "execute_result"
    }
   ],
   "source": [
    "df.corr()"
   ]
  },
  {
   "cell_type": "code",
   "execution_count": 79,
   "id": "a5c2e702",
   "metadata": {},
   "outputs": [
    {
     "data": {
      "image/png": "[encoded data removed]",
      "text/plain": [
       "<Figure size 432x288 with 1 Axes>"
      ]
     },
     "metadata": {
      "needs_background": "light"
     },
     "output_type": "display_data"
    }
   ],
   "source": [
    "sns.barplot(x=df['topping'],y=df['price_rupiah'])\n",
    "plt.xticks(rotation='vertical')\n",
    "plt.show()"
   ]
  },
  {
   "cell_type": "code",
   "execution_count": 80,
   "id": "b5188769",
   "metadata": {},
   "outputs": [
    {
     "data": {
      "image/png": "[encoded data removed]",
      "text/plain": [
       "<Figure size 432x288 with 1 Axes>"
      ]
     },
     "metadata": {
      "needs_background": "light"
     },
     "output_type": "display_data"
    }
   ],
   "source": [
    "sns.barplot(x=df['size'],y=df['price_rupiah'])\n",
    "plt.xticks(rotation='vertical')\n",
    "plt.show()"
   ]
  },
  {
   "cell_type": "code",
   "execution_count": 110,
   "id": "72dacea2",
   "metadata": {},
   "outputs": [
    {
     "data": {
      "text/plain": [
       "array(['double_signature', 'american_favorite', 'super_supreme',\n",
       "       'meat_lovers', 'double_mix', 'classic', 'crunchy', 'new_york',\n",
       "       'double_decker', 'spicy_tuna', 'BBQ_meat_fiesta', 'BBQ_sausage',\n",
       "       'extravaganza', 'meat_eater', 'gournet_greek', 'italian_veggie',\n",
       "       'thai_veggie', 'american_classic', 'neptune_tuna', 'spicy tuna'],\n",
       "      dtype=object)"
      ]
     },
     "execution_count": 110,
     "metadata": {},
     "output_type": "execute_result"
    }
   ],
   "source": [
    "df['variant'].unique()"
   ]
  },
  {
   "cell_type": "code",
   "execution_count": 81,
   "id": "4f43b8b3",
   "metadata": {},
   "outputs": [
    {
     "data": {
      "image/png": "[encoded data removed]",
      "text/plain": [
       "<Figure size 432x288 with 1 Axes>"
      ]
     },
     "metadata": {
      "needs_background": "light"
     },
     "output_type": "display_data"
    }
   ],
   "source": [
    "\n",
    "\n",
    "sns.barplot(x=df['variant'],y=df['price_rupiah'])\n",
    "plt.xticks(rotation='vertical')\n",
    "plt.show()"
   ]
  },
  {
   "cell_type": "code",
   "execution_count": 82,
   "id": "11c73267",
   "metadata": {},
   "outputs": [
    {
     "name": "stderr",
     "output_type": "stream",
     "text": [
      "C:\\Users\\Pal\\anaconda3\\lib\\site-packages\\seaborn\\distributions.py:2557: FutureWarning: `distplot` is a deprecated function and will be removed in a future version. Please adapt your code to use either `displot` (a figure-level function with similar flexibility) or `histplot` (an axes-level function for histograms).\n",
      "  warnings.warn(msg, FutureWarning)\n"
     ]
    },
    {
     "data": {
      "text/plain": [
       "<AxesSubplot:xlabel='extra_sauce', ylabel='Density'>"
      ]
     },
     "execution_count": 82,
     "metadata": {},
     "output_type": "execute_result"
    },
    {
     "data": {
      "image/png": "[encoded data removed]",
      "text/plain": [
       "<Figure size 432x288 with 1 Axes>"
      ]
     },
     "metadata": {
      "needs_background": "light"
     },
     "output_type": "display_data"
    }
   ],
   "source": [
    "sns.distplot(df['extra_sauce'])"
   ]
  },
  {
   "cell_type": "code",
   "execution_count": 83,
   "id": "4c5af5e8",
   "metadata": {},
   "outputs": [
    {
     "name": "stderr",
     "output_type": "stream",
     "text": [
      "C:\\Users\\Pal\\anaconda3\\lib\\site-packages\\seaborn\\distributions.py:2557: FutureWarning: `distplot` is a deprecated function and will be removed in a future version. Please adapt your code to use either `displot` (a figure-level function with similar flexibility) or `histplot` (an axes-level function for histograms).\n",
      "  warnings.warn(msg, FutureWarning)\n"
     ]
    },
    {
     "data": {
      "text/plain": [
       "<AxesSubplot:xlabel='extra_cheese', ylabel='Density'>"
      ]
     },
     "execution_count": 83,
     "metadata": {},
     "output_type": "execute_result"
    },
    {
     "data": {
      "image/png": "[encoded data removed]",
      "text/plain": [
       "<Figure size 432x288 with 1 Axes>"
      ]
     },
     "metadata": {
      "needs_background": "light"
     },
     "output_type": "display_data"
    }
   ],
   "source": [
    "\n",
    "sns.distplot(df['extra_cheese'])"
   ]
  },
  {
   "cell_type": "code",
   "execution_count": 86,
   "id": "b41bc344",
   "metadata": {},
   "outputs": [
    {
     "data": {
      "text/html": [
       "<div>\n",
       "<style scoped>\n",
       "    .dataframe tbody tr th:only-of-type {\n",
       "        vertical-align: middle;\n",
       "    }\n",
       "\n",
       "    .dataframe tbody tr th {\n",
       "        vertical-align: top;\n",
       "    }\n",
       "\n",
       "    .dataframe thead th {\n",
       "        text-align: right;\n",
       "    }\n",
       "</style>\n",
       "<table border=\"1\" class=\"dataframe\">\n",
       "  <thead>\n",
       "    <tr style=\"text-align: right;\">\n",
       "      <th></th>\n",
       "      <th>company</th>\n",
       "      <th>diameter</th>\n",
       "      <th>topping</th>\n",
       "      <th>variant</th>\n",
       "      <th>size</th>\n",
       "      <th>extra_sauce</th>\n",
       "      <th>extra_cheese</th>\n",
       "    </tr>\n",
       "  </thead>\n",
       "  <tbody>\n",
       "    <tr>\n",
       "      <th>0</th>\n",
       "      <td>A</td>\n",
       "      <td>22.0</td>\n",
       "      <td>chicken</td>\n",
       "      <td>double_signature</td>\n",
       "      <td>jumbo</td>\n",
       "      <td>1</td>\n",
       "      <td>1</td>\n",
       "    </tr>\n",
       "    <tr>\n",
       "      <th>1</th>\n",
       "      <td>A</td>\n",
       "      <td>20.0</td>\n",
       "      <td>papperoni</td>\n",
       "      <td>double_signature</td>\n",
       "      <td>jumbo</td>\n",
       "      <td>1</td>\n",
       "      <td>1</td>\n",
       "    </tr>\n",
       "    <tr>\n",
       "      <th>2</th>\n",
       "      <td>A</td>\n",
       "      <td>16.0</td>\n",
       "      <td>mushrooms</td>\n",
       "      <td>double_signature</td>\n",
       "      <td>reguler</td>\n",
       "      <td>1</td>\n",
       "      <td>1</td>\n",
       "    </tr>\n",
       "    <tr>\n",
       "      <th>3</th>\n",
       "      <td>A</td>\n",
       "      <td>14.0</td>\n",
       "      <td>smoked beef</td>\n",
       "      <td>double_signature</td>\n",
       "      <td>reguler</td>\n",
       "      <td>1</td>\n",
       "      <td>0</td>\n",
       "    </tr>\n",
       "    <tr>\n",
       "      <th>4</th>\n",
       "      <td>A</td>\n",
       "      <td>18.0</td>\n",
       "      <td>mozzarella</td>\n",
       "      <td>double_signature</td>\n",
       "      <td>jumbo</td>\n",
       "      <td>1</td>\n",
       "      <td>0</td>\n",
       "    </tr>\n",
       "    <tr>\n",
       "      <th>...</th>\n",
       "      <td>...</td>\n",
       "      <td>...</td>\n",
       "      <td>...</td>\n",
       "      <td>...</td>\n",
       "      <td>...</td>\n",
       "      <td>...</td>\n",
       "      <td>...</td>\n",
       "    </tr>\n",
       "    <tr>\n",
       "      <th>124</th>\n",
       "      <td>E</td>\n",
       "      <td>8.5</td>\n",
       "      <td>tuna</td>\n",
       "      <td>spicy tuna</td>\n",
       "      <td>small</td>\n",
       "      <td>1</td>\n",
       "      <td>1</td>\n",
       "    </tr>\n",
       "    <tr>\n",
       "      <th>125</th>\n",
       "      <td>E</td>\n",
       "      <td>12.0</td>\n",
       "      <td>tuna</td>\n",
       "      <td>spicy tuna</td>\n",
       "      <td>medium</td>\n",
       "      <td>1</td>\n",
       "      <td>1</td>\n",
       "    </tr>\n",
       "    <tr>\n",
       "      <th>126</th>\n",
       "      <td>E</td>\n",
       "      <td>14.0</td>\n",
       "      <td>tuna</td>\n",
       "      <td>spicy tuna</td>\n",
       "      <td>large</td>\n",
       "      <td>1</td>\n",
       "      <td>1</td>\n",
       "    </tr>\n",
       "    <tr>\n",
       "      <th>127</th>\n",
       "      <td>E</td>\n",
       "      <td>8.5</td>\n",
       "      <td>meat</td>\n",
       "      <td>BBQ_meat_fiesta</td>\n",
       "      <td>small</td>\n",
       "      <td>1</td>\n",
       "      <td>0</td>\n",
       "    </tr>\n",
       "    <tr>\n",
       "      <th>128</th>\n",
       "      <td>E</td>\n",
       "      <td>12.0</td>\n",
       "      <td>meat</td>\n",
       "      <td>BBQ_meat_fiesta</td>\n",
       "      <td>medium</td>\n",
       "      <td>0</td>\n",
       "      <td>0</td>\n",
       "    </tr>\n",
       "  </tbody>\n",
       "</table>\n",
       "<p>126 rows × 7 columns</p>\n",
       "</div>"
      ],
      "text/plain": [
       "    company  diameter      topping           variant     size  extra_sauce  \\\n",
       "0         A      22.0      chicken  double_signature    jumbo            1   \n",
       "1         A      20.0    papperoni  double_signature    jumbo            1   \n",
       "2         A      16.0    mushrooms  double_signature  reguler            1   \n",
       "3         A      14.0  smoked beef  double_signature  reguler            1   \n",
       "4         A      18.0   mozzarella  double_signature    jumbo            1   \n",
       "..      ...       ...          ...               ...      ...          ...   \n",
       "124       E       8.5         tuna        spicy tuna    small            1   \n",
       "125       E      12.0         tuna        spicy tuna   medium            1   \n",
       "126       E      14.0         tuna        spicy tuna    large            1   \n",
       "127       E       8.5         meat   BBQ_meat_fiesta    small            1   \n",
       "128       E      12.0         meat   BBQ_meat_fiesta   medium            0   \n",
       "\n",
       "     extra_cheese  \n",
       "0               1  \n",
       "1               1  \n",
       "2               1  \n",
       "3               0  \n",
       "4               0  \n",
       "..            ...  \n",
       "124             1  \n",
       "125             1  \n",
       "126             1  \n",
       "127             0  \n",
       "128             0  \n",
       "\n",
       "[126 rows x 7 columns]"
      ]
     },
     "execution_count": 86,
     "metadata": {},
     "output_type": "execute_result"
    }
   ],
   "source": [
    "X = df.drop(columns=['price_rupiah'])\n",
    "X"
   ]
  },
  {
   "cell_type": "code",
   "execution_count": 87,
   "id": "873843f6",
   "metadata": {},
   "outputs": [
    {
     "data": {
      "text/plain": [
       "0      235\n",
       "1      198\n",
       "2      120\n",
       "3      155\n",
       "4      248\n",
       "      ... \n",
       "124     39\n",
       "125     72\n",
       "126     99\n",
       "127     44\n",
       "128     78\n",
       "Name: price_rupiah, Length: 126, dtype: int32"
      ]
     },
     "execution_count": 87,
     "metadata": {},
     "output_type": "execute_result"
    }
   ],
   "source": [
    "Y= df[\"price_rupiah\"]\n",
    "Y"
   ]
  },
  {
   "cell_type": "code",
   "execution_count": 120,
   "id": "170d1e17",
   "metadata": {},
   "outputs": [
    {
     "data": {
      "text/plain": [
       "array(['chicken', 'papperoni', 'mushrooms', 'smoked beef', 'mozzarella',\n",
       "       'black papper', 'tuna', 'meat', 'sausage', 'onion', 'vegetables',\n",
       "       'beef'], dtype=object)"
      ]
     },
     "execution_count": 120,
     "metadata": {},
     "output_type": "execute_result"
    }
   ],
   "source": [
    "df['topping'].unique()"
   ]
  },
  {
   "cell_type": "code",
   "execution_count": 117,
   "id": "2118583f",
   "metadata": {},
   "outputs": [
    {
     "data": {
      "text/plain": [
       "[22.0, 20.0, 16.0, 14.0, 18.0, 18.5, 8.0, 12.0, 16.5, 8.5, 17.0]"
      ]
     },
     "execution_count": 117,
     "metadata": {},
     "output_type": "execute_result"
    }
   ],
   "source": [
    "df['diameter'].unique().tolist()"
   ]
  },
  {
   "cell_type": "code",
   "execution_count": 88,
   "id": "f5a79deb",
   "metadata": {},
   "outputs": [],
   "source": [
    "from sklearn.model_selection import train_test_split\n",
    "X_train,X_test,Y_train,Y_test = train_test_split(X,Y,test_size=0.15,random_state=2)"
   ]
  },
  {
   "cell_type": "code",
   "execution_count": 89,
   "id": "26ce2517",
   "metadata": {},
   "outputs": [
    {
     "data": {
      "text/html": [
       "<div>\n",
       "<style scoped>\n",
       "    .dataframe tbody tr th:only-of-type {\n",
       "        vertical-align: middle;\n",
       "    }\n",
       "\n",
       "    .dataframe tbody tr th {\n",
       "        vertical-align: top;\n",
       "    }\n",
       "\n",
       "    .dataframe thead th {\n",
       "        text-align: right;\n",
       "    }\n",
       "</style>\n",
       "<table border=\"1\" class=\"dataframe\">\n",
       "  <thead>\n",
       "    <tr style=\"text-align: right;\">\n",
       "      <th></th>\n",
       "      <th>company</th>\n",
       "      <th>diameter</th>\n",
       "      <th>topping</th>\n",
       "      <th>variant</th>\n",
       "      <th>size</th>\n",
       "      <th>extra_sauce</th>\n",
       "      <th>extra_cheese</th>\n",
       "    </tr>\n",
       "  </thead>\n",
       "  <tbody>\n",
       "    <tr>\n",
       "      <th>101</th>\n",
       "      <td>E</td>\n",
       "      <td>12.0</td>\n",
       "      <td>chicken</td>\n",
       "      <td>classic</td>\n",
       "      <td>medium</td>\n",
       "      <td>1</td>\n",
       "      <td>0</td>\n",
       "    </tr>\n",
       "    <tr>\n",
       "      <th>94</th>\n",
       "      <td>D</td>\n",
       "      <td>12.0</td>\n",
       "      <td>chicken</td>\n",
       "      <td>double_decker</td>\n",
       "      <td>medium</td>\n",
       "      <td>0</td>\n",
       "      <td>1</td>\n",
       "    </tr>\n",
       "    <tr>\n",
       "      <th>118</th>\n",
       "      <td>E</td>\n",
       "      <td>8.5</td>\n",
       "      <td>smoked beef</td>\n",
       "      <td>classic</td>\n",
       "      <td>small</td>\n",
       "      <td>1</td>\n",
       "      <td>1</td>\n",
       "    </tr>\n",
       "    <tr>\n",
       "      <th>13</th>\n",
       "      <td>A</td>\n",
       "      <td>12.0</td>\n",
       "      <td>black papper</td>\n",
       "      <td>super_supreme</td>\n",
       "      <td>reguler</td>\n",
       "      <td>0</td>\n",
       "      <td>1</td>\n",
       "    </tr>\n",
       "    <tr>\n",
       "      <th>75</th>\n",
       "      <td>C</td>\n",
       "      <td>14.0</td>\n",
       "      <td>beef</td>\n",
       "      <td>american_classic</td>\n",
       "      <td>large</td>\n",
       "      <td>1</td>\n",
       "      <td>0</td>\n",
       "    </tr>\n",
       "    <tr>\n",
       "      <th>...</th>\n",
       "      <td>...</td>\n",
       "      <td>...</td>\n",
       "      <td>...</td>\n",
       "      <td>...</td>\n",
       "      <td>...</td>\n",
       "      <td>...</td>\n",
       "      <td>...</td>\n",
       "    </tr>\n",
       "    <tr>\n",
       "      <th>22</th>\n",
       "      <td>A</td>\n",
       "      <td>14.0</td>\n",
       "      <td>chicken</td>\n",
       "      <td>double_mix</td>\n",
       "      <td>reguler</td>\n",
       "      <td>1</td>\n",
       "      <td>1</td>\n",
       "    </tr>\n",
       "    <tr>\n",
       "      <th>73</th>\n",
       "      <td>C</td>\n",
       "      <td>8.5</td>\n",
       "      <td>beef</td>\n",
       "      <td>american_classic</td>\n",
       "      <td>small</td>\n",
       "      <td>1</td>\n",
       "      <td>0</td>\n",
       "    </tr>\n",
       "    <tr>\n",
       "      <th>111</th>\n",
       "      <td>E</td>\n",
       "      <td>12.0</td>\n",
       "      <td>smoked beef</td>\n",
       "      <td>double_decker</td>\n",
       "      <td>medium</td>\n",
       "      <td>1</td>\n",
       "      <td>1</td>\n",
       "    </tr>\n",
       "    <tr>\n",
       "      <th>15</th>\n",
       "      <td>A</td>\n",
       "      <td>18.5</td>\n",
       "      <td>mozzarella</td>\n",
       "      <td>meat_lovers</td>\n",
       "      <td>jumbo</td>\n",
       "      <td>0</td>\n",
       "      <td>1</td>\n",
       "    </tr>\n",
       "    <tr>\n",
       "      <th>40</th>\n",
       "      <td>B</td>\n",
       "      <td>12.0</td>\n",
       "      <td>chicken</td>\n",
       "      <td>crunchy</td>\n",
       "      <td>medium</td>\n",
       "      <td>0</td>\n",
       "      <td>0</td>\n",
       "    </tr>\n",
       "  </tbody>\n",
       "</table>\n",
       "<p>107 rows × 7 columns</p>\n",
       "</div>"
      ],
      "text/plain": [
       "    company  diameter       topping           variant     size  extra_sauce  \\\n",
       "101       E      12.0       chicken           classic   medium            1   \n",
       "94        D      12.0       chicken     double_decker   medium            0   \n",
       "118       E       8.5   smoked beef           classic    small            1   \n",
       "13        A      12.0  black papper     super_supreme  reguler            0   \n",
       "75        C      14.0          beef  american_classic    large            1   \n",
       "..      ...       ...           ...               ...      ...          ...   \n",
       "22        A      14.0       chicken        double_mix  reguler            1   \n",
       "73        C       8.5          beef  american_classic    small            1   \n",
       "111       E      12.0   smoked beef     double_decker   medium            1   \n",
       "15        A      18.5    mozzarella       meat_lovers    jumbo            0   \n",
       "40        B      12.0       chicken           crunchy   medium            0   \n",
       "\n",
       "     extra_cheese  \n",
       "101             0  \n",
       "94              1  \n",
       "118             1  \n",
       "13              1  \n",
       "75              0  \n",
       "..            ...  \n",
       "22              1  \n",
       "73              0  \n",
       "111             1  \n",
       "15              1  \n",
       "40              0  \n",
       "\n",
       "[107 rows x 7 columns]"
      ]
     },
     "execution_count": 89,
     "metadata": {},
     "output_type": "execute_result"
    }
   ],
   "source": [
    "X_train"
   ]
  },
  {
   "cell_type": "code",
   "execution_count": 90,
   "id": "20f829f6",
   "metadata": {},
   "outputs": [],
   "source": [
    "from sklearn.compose import ColumnTransformer\n",
    "from sklearn.pipeline import Pipeline\n",
    "from sklearn.preprocessing import OneHotEncoder\n",
    "from sklearn.metrics import r2_score,mean_absolute_error"
   ]
  },
  {
   "cell_type": "code",
   "execution_count": 91,
   "id": "91cff70f",
   "metadata": {},
   "outputs": [],
   "source": [
    "from sklearn.linear_model import LinearRegression,Ridge,Lasso"
   ]
  },
  {
   "cell_type": "markdown",
   "id": "dee29177",
   "metadata": {},
   "source": [
    "## LinearRegression"
   ]
  },
  {
   "cell_type": "code",
   "execution_count": 94,
   "id": "e624f609",
   "metadata": {},
   "outputs": [
    {
     "name": "stdout",
     "output_type": "stream",
     "text": [
      "R2 score 0.8147638367075325\n",
      "MAE 15.619456838562\n"
     ]
    }
   ],
   "source": [
    "step1=ColumnTransformer(transformers=[ ('col_tnf',OneHotEncoder(sparse=False,drop='first'),[0,2,3,4])],remainder='passthrough')\n",
    "step2 = LinearRegression()\n",
    "\n",
    "pipe = Pipeline([\n",
    "    ('step1',step1),\n",
    "    ('step2',step2)\n",
    "])\n",
    "\n",
    "pipe.fit(X_train,Y_train)\n",
    "\n",
    "Y_pred = pipe.predict(X_test)\n",
    "\n",
    "print('R2 score',r2_score(Y_test,Y_pred))\n",
    "print('MAE',mean_absolute_error(Y_test,Y_pred))"
   ]
  },
  {
   "cell_type": "code",
   "execution_count": 118,
   "id": "5e843a3a",
   "metadata": {},
   "outputs": [
    {
     "data": {
      "text/plain": [
       "array([149.05540439])"
      ]
     },
     "execution_count": 118,
     "metadata": {},
     "output_type": "execute_result"
    }
   ],
   "source": [
    "pipe.predict([['A',20,'smoked beef','super_supreme','jumbo',1,1]])"
   ]
  },
  {
   "cell_type": "markdown",
   "id": "edb38c6e",
   "metadata": {},
   "source": [
    "## Ridge"
   ]
  },
  {
   "cell_type": "code",
   "execution_count": 100,
   "id": "5ef58c61",
   "metadata": {},
   "outputs": [
    {
     "name": "stdout",
     "output_type": "stream",
     "text": [
      "R2 score 0.8981107888817624\n",
      "MAE 12.556175753206668\n"
     ]
    }
   ],
   "source": [
    "step1=ColumnTransformer(transformers=[ ('col_tnf',OneHotEncoder(sparse=False,drop='first'),[0,2,3,4])],remainder='passthrough')\n",
    "step2 = Ridge(alpha=1)\n",
    "\n",
    "pipe = Pipeline([\n",
    "    ('step1',step1),\n",
    "    ('step2',step2)\n",
    "])\n",
    "\n",
    "pipe.fit(X_train,Y_train)\n",
    "\n",
    "Y_pred = pipe.predict(X_test)\n",
    "\n",
    "print('R2 score',r2_score(Y_test,Y_pred))\n",
    "print('MAE',mean_absolute_error(Y_test,Y_pred))"
   ]
  },
  {
   "cell_type": "markdown",
   "id": "574b36f8",
   "metadata": {},
   "source": [
    "##  Lasso"
   ]
  },
  {
   "cell_type": "code",
   "execution_count": 105,
   "id": "6b27627f",
   "metadata": {},
   "outputs": [
    {
     "name": "stdout",
     "output_type": "stream",
     "text": [
      "R2 score 0.8180249247341603\n",
      "MAE 15.499237966294668\n"
     ]
    }
   ],
   "source": [
    "step1=ColumnTransformer(transformers=[ ('col_tnf',OneHotEncoder(sparse=False,drop='first'),[0,2,3,4])],remainder='passthrough')\n",
    "step2 = Lasso(alpha=0.005)\n",
    "\n",
    "pipe = Pipeline([\n",
    "    ('step1',step1),\n",
    "    ('step2',step2)\n",
    "])\n",
    "\n",
    "pipe.fit(X_train,Y_train)\n",
    "\n",
    "Y_pred = pipe.predict(X_test)\n",
    "\n",
    "print('R2 score',r2_score(Y_test,Y_pred))\n",
    "print('MAE',mean_absolute_error(Y_test,Y_pred))"
   ]
  },
  {
   "cell_type": "code",
   "execution_count": 106,
   "id": "50de69e8",
   "metadata": {},
   "outputs": [],
   "source": [
    "\n",
    "import pickle"
   ]
  },
  {
   "cell_type": "code",
   "execution_count": 107,
   "id": "fc0abd75",
   "metadata": {},
   "outputs": [],
   "source": [
    "pickle.dump(df,open('df.pkl','wb'))\n",
    "pickle.dump(pipe,open('pipe.pkl','wb'))"
   ]
  },
  {
   "cell_type": "code",
   "execution_count": 108,
   "id": "b93b1e9e",
   "metadata": {},
   "outputs": [
    {
     "data": {
      "text/html": [
       "<div>\n",
       "<style scoped>\n",
       "    .dataframe tbody tr th:only-of-type {\n",
       "        vertical-align: middle;\n",
       "    }\n",
       "\n",
       "    .dataframe tbody tr th {\n",
       "        vertical-align: top;\n",
       "    }\n",
       "\n",
       "    .dataframe thead th {\n",
       "        text-align: right;\n",
       "    }\n",
       "</style>\n",
       "<table border=\"1\" class=\"dataframe\">\n",
       "  <thead>\n",
       "    <tr style=\"text-align: right;\">\n",
       "      <th></th>\n",
       "      <th>company</th>\n",
       "      <th>price_rupiah</th>\n",
       "      <th>diameter</th>\n",
       "      <th>topping</th>\n",
       "      <th>variant</th>\n",
       "      <th>size</th>\n",
       "      <th>extra_sauce</th>\n",
       "      <th>extra_cheese</th>\n",
       "    </tr>\n",
       "  </thead>\n",
       "  <tbody>\n",
       "    <tr>\n",
       "      <th>0</th>\n",
       "      <td>A</td>\n",
       "      <td>235</td>\n",
       "      <td>22.0</td>\n",
       "      <td>chicken</td>\n",
       "      <td>double_signature</td>\n",
       "      <td>jumbo</td>\n",
       "      <td>1</td>\n",
       "      <td>1</td>\n",
       "    </tr>\n",
       "    <tr>\n",
       "      <th>1</th>\n",
       "      <td>A</td>\n",
       "      <td>198</td>\n",
       "      <td>20.0</td>\n",
       "      <td>papperoni</td>\n",
       "      <td>double_signature</td>\n",
       "      <td>jumbo</td>\n",
       "      <td>1</td>\n",
       "      <td>1</td>\n",
       "    </tr>\n",
       "    <tr>\n",
       "      <th>2</th>\n",
       "      <td>A</td>\n",
       "      <td>120</td>\n",
       "      <td>16.0</td>\n",
       "      <td>mushrooms</td>\n",
       "      <td>double_signature</td>\n",
       "      <td>reguler</td>\n",
       "      <td>1</td>\n",
       "      <td>1</td>\n",
       "    </tr>\n",
       "    <tr>\n",
       "      <th>3</th>\n",
       "      <td>A</td>\n",
       "      <td>155</td>\n",
       "      <td>14.0</td>\n",
       "      <td>smoked beef</td>\n",
       "      <td>double_signature</td>\n",
       "      <td>reguler</td>\n",
       "      <td>1</td>\n",
       "      <td>0</td>\n",
       "    </tr>\n",
       "    <tr>\n",
       "      <th>4</th>\n",
       "      <td>A</td>\n",
       "      <td>248</td>\n",
       "      <td>18.0</td>\n",
       "      <td>mozzarella</td>\n",
       "      <td>double_signature</td>\n",
       "      <td>jumbo</td>\n",
       "      <td>1</td>\n",
       "      <td>0</td>\n",
       "    </tr>\n",
       "    <tr>\n",
       "      <th>...</th>\n",
       "      <td>...</td>\n",
       "      <td>...</td>\n",
       "      <td>...</td>\n",
       "      <td>...</td>\n",
       "      <td>...</td>\n",
       "      <td>...</td>\n",
       "      <td>...</td>\n",
       "      <td>...</td>\n",
       "    </tr>\n",
       "    <tr>\n",
       "      <th>124</th>\n",
       "      <td>E</td>\n",
       "      <td>39</td>\n",
       "      <td>8.5</td>\n",
       "      <td>tuna</td>\n",
       "      <td>spicy tuna</td>\n",
       "      <td>small</td>\n",
       "      <td>1</td>\n",
       "      <td>1</td>\n",
       "    </tr>\n",
       "    <tr>\n",
       "      <th>125</th>\n",
       "      <td>E</td>\n",
       "      <td>72</td>\n",
       "      <td>12.0</td>\n",
       "      <td>tuna</td>\n",
       "      <td>spicy tuna</td>\n",
       "      <td>medium</td>\n",
       "      <td>1</td>\n",
       "      <td>1</td>\n",
       "    </tr>\n",
       "    <tr>\n",
       "      <th>126</th>\n",
       "      <td>E</td>\n",
       "      <td>99</td>\n",
       "      <td>14.0</td>\n",
       "      <td>tuna</td>\n",
       "      <td>spicy tuna</td>\n",
       "      <td>large</td>\n",
       "      <td>1</td>\n",
       "      <td>1</td>\n",
       "    </tr>\n",
       "    <tr>\n",
       "      <th>127</th>\n",
       "      <td>E</td>\n",
       "      <td>44</td>\n",
       "      <td>8.5</td>\n",
       "      <td>meat</td>\n",
       "      <td>BBQ_meat_fiesta</td>\n",
       "      <td>small</td>\n",
       "      <td>1</td>\n",
       "      <td>0</td>\n",
       "    </tr>\n",
       "    <tr>\n",
       "      <th>128</th>\n",
       "      <td>E</td>\n",
       "      <td>78</td>\n",
       "      <td>12.0</td>\n",
       "      <td>meat</td>\n",
       "      <td>BBQ_meat_fiesta</td>\n",
       "      <td>medium</td>\n",
       "      <td>0</td>\n",
       "      <td>0</td>\n",
       "    </tr>\n",
       "  </tbody>\n",
       "</table>\n",
       "<p>126 rows × 8 columns</p>\n",
       "</div>"
      ],
      "text/plain": [
       "    company  price_rupiah  diameter      topping           variant     size  \\\n",
       "0         A           235      22.0      chicken  double_signature    jumbo   \n",
       "1         A           198      20.0    papperoni  double_signature    jumbo   \n",
       "2         A           120      16.0    mushrooms  double_signature  reguler   \n",
       "3         A           155      14.0  smoked beef  double_signature  reguler   \n",
       "4         A           248      18.0   mozzarella  double_signature    jumbo   \n",
       "..      ...           ...       ...          ...               ...      ...   \n",
       "124       E            39       8.5         tuna        spicy tuna    small   \n",
       "125       E            72      12.0         tuna        spicy tuna   medium   \n",
       "126       E            99      14.0         tuna        spicy tuna    large   \n",
       "127       E            44       8.5         meat   BBQ_meat_fiesta    small   \n",
       "128       E            78      12.0         meat   BBQ_meat_fiesta   medium   \n",
       "\n",
       "     extra_sauce  extra_cheese  \n",
       "0              1             1  \n",
       "1              1             1  \n",
       "2              1             1  \n",
       "3              1             0  \n",
       "4              1             0  \n",
       "..           ...           ...  \n",
       "124            1             1  \n",
       "125            1             1  \n",
       "126            1             1  \n",
       "127            1             0  \n",
       "128            0             0  \n",
       "\n",
       "[126 rows x 8 columns]"
      ]
     },
     "execution_count": 108,
     "metadata": {},
     "output_type": "execute_result"
    }
   ],
   "source": [
    "df"
   ]
  },
  {
   "cell_type": "code",
   "execution_count": 109,
   "id": "fbe3f205",
   "metadata": {},
   "outputs": [
    {
     "data": {
      "text/html": [
       "<div>\n",
       "<style scoped>\n",
       "    .dataframe tbody tr th:only-of-type {\n",
       "        vertical-align: middle;\n",
       "    }\n",
       "\n",
       "    .dataframe tbody tr th {\n",
       "        vertical-align: top;\n",
       "    }\n",
       "\n",
       "    .dataframe thead th {\n",
       "        text-align: right;\n",
       "    }\n",
       "</style>\n",
       "<table border=\"1\" class=\"dataframe\">\n",
       "  <thead>\n",
       "    <tr style=\"text-align: right;\">\n",
       "      <th></th>\n",
       "      <th>company</th>\n",
       "      <th>diameter</th>\n",
       "      <th>topping</th>\n",
       "      <th>variant</th>\n",
       "      <th>size</th>\n",
       "      <th>extra_sauce</th>\n",
       "      <th>extra_cheese</th>\n",
       "    </tr>\n",
       "  </thead>\n",
       "  <tbody>\n",
       "    <tr>\n",
       "      <th>101</th>\n",
       "      <td>E</td>\n",
       "      <td>12.0</td>\n",
       "      <td>chicken</td>\n",
       "      <td>classic</td>\n",
       "      <td>medium</td>\n",
       "      <td>1</td>\n",
       "      <td>0</td>\n",
       "    </tr>\n",
       "    <tr>\n",
       "      <th>94</th>\n",
       "      <td>D</td>\n",
       "      <td>12.0</td>\n",
       "      <td>chicken</td>\n",
       "      <td>double_decker</td>\n",
       "      <td>medium</td>\n",
       "      <td>0</td>\n",
       "      <td>1</td>\n",
       "    </tr>\n",
       "    <tr>\n",
       "      <th>118</th>\n",
       "      <td>E</td>\n",
       "      <td>8.5</td>\n",
       "      <td>smoked beef</td>\n",
       "      <td>classic</td>\n",
       "      <td>small</td>\n",
       "      <td>1</td>\n",
       "      <td>1</td>\n",
       "    </tr>\n",
       "    <tr>\n",
       "      <th>13</th>\n",
       "      <td>A</td>\n",
       "      <td>12.0</td>\n",
       "      <td>black papper</td>\n",
       "      <td>super_supreme</td>\n",
       "      <td>reguler</td>\n",
       "      <td>0</td>\n",
       "      <td>1</td>\n",
       "    </tr>\n",
       "    <tr>\n",
       "      <th>75</th>\n",
       "      <td>C</td>\n",
       "      <td>14.0</td>\n",
       "      <td>beef</td>\n",
       "      <td>american_classic</td>\n",
       "      <td>large</td>\n",
       "      <td>1</td>\n",
       "      <td>0</td>\n",
       "    </tr>\n",
       "    <tr>\n",
       "      <th>...</th>\n",
       "      <td>...</td>\n",
       "      <td>...</td>\n",
       "      <td>...</td>\n",
       "      <td>...</td>\n",
       "      <td>...</td>\n",
       "      <td>...</td>\n",
       "      <td>...</td>\n",
       "    </tr>\n",
       "    <tr>\n",
       "      <th>22</th>\n",
       "      <td>A</td>\n",
       "      <td>14.0</td>\n",
       "      <td>chicken</td>\n",
       "      <td>double_mix</td>\n",
       "      <td>reguler</td>\n",
       "      <td>1</td>\n",
       "      <td>1</td>\n",
       "    </tr>\n",
       "    <tr>\n",
       "      <th>73</th>\n",
       "      <td>C</td>\n",
       "      <td>8.5</td>\n",
       "      <td>beef</td>\n",
       "      <td>american_classic</td>\n",
       "      <td>small</td>\n",
       "      <td>1</td>\n",
       "      <td>0</td>\n",
       "    </tr>\n",
       "    <tr>\n",
       "      <th>111</th>\n",
       "      <td>E</td>\n",
       "      <td>12.0</td>\n",
       "      <td>smoked beef</td>\n",
       "      <td>double_decker</td>\n",
       "      <td>medium</td>\n",
       "      <td>1</td>\n",
       "      <td>1</td>\n",
       "    </tr>\n",
       "    <tr>\n",
       "      <th>15</th>\n",
       "      <td>A</td>\n",
       "      <td>18.5</td>\n",
       "      <td>mozzarella</td>\n",
       "      <td>meat_lovers</td>\n",
       "      <td>jumbo</td>\n",
       "      <td>0</td>\n",
       "      <td>1</td>\n",
       "    </tr>\n",
       "    <tr>\n",
       "      <th>40</th>\n",
       "      <td>B</td>\n",
       "      <td>12.0</td>\n",
       "      <td>chicken</td>\n",
       "      <td>crunchy</td>\n",
       "      <td>medium</td>\n",
       "      <td>0</td>\n",
       "      <td>0</td>\n",
       "    </tr>\n",
       "  </tbody>\n",
       "</table>\n",
       "<p>107 rows × 7 columns</p>\n",
       "</div>"
      ],
      "text/plain": [
       "    company  diameter       topping           variant     size  extra_sauce  \\\n",
       "101       E      12.0       chicken           classic   medium            1   \n",
       "94        D      12.0       chicken     double_decker   medium            0   \n",
       "118       E       8.5   smoked beef           classic    small            1   \n",
       "13        A      12.0  black papper     super_supreme  reguler            0   \n",
       "75        C      14.0          beef  american_classic    large            1   \n",
       "..      ...       ...           ...               ...      ...          ...   \n",
       "22        A      14.0       chicken        double_mix  reguler            1   \n",
       "73        C       8.5          beef  american_classic    small            1   \n",
       "111       E      12.0   smoked beef     double_decker   medium            1   \n",
       "15        A      18.5    mozzarella       meat_lovers    jumbo            0   \n",
       "40        B      12.0       chicken           crunchy   medium            0   \n",
       "\n",
       "     extra_cheese  \n",
       "101             0  \n",
       "94              1  \n",
       "118             1  \n",
       "13              1  \n",
       "75              0  \n",
       "..            ...  \n",
       "22              1  \n",
       "73              0  \n",
       "111             1  \n",
       "15              1  \n",
       "40              0  \n",
       "\n",
       "[107 rows x 7 columns]"
      ]
     },
     "execution_count": 109,
     "metadata": {},
     "output_type": "execute_result"
    }
   ],
   "source": [
    "X_train"
   ]
  },
  {
   "cell_type": "code",
   "execution_count": null,
   "id": "9eae02e8",
   "metadata": {},
   "outputs": [],
   "source": []
  }
 ],
 "metadata": {
  "kernelspec": {
   "display_name": "Python 3",
   "language": "python",
   "name": "python3"
  },
  "language_info": {
   "codemirror_mode": {
    "name": "ipython",
    "version": 3
   },
   "file_extension": ".py",
   "mimetype": "text/x-python",
   "name": "python",
   "nbconvert_exporter": "python",
   "pygments_lexer": "ipython3",
   "version": "3.8.8"
  }
 },
 "nbformat": 4,
 "nbformat_minor": 5
}
